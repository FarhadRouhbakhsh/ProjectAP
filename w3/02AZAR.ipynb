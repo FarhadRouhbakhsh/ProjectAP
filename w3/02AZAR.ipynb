{
 "cells": [
  {
   "cell_type": "code",
   "execution_count": 1,
   "metadata": {},
   "outputs": [
    {
     "data": {
      "text/plain": [
       "dict_keys(['events', 'game_settings', 'phases', 'teams', 'total_players', 'elements', 'element_stats', 'element_types'])"
      ]
     },
     "execution_count": 1,
     "metadata": {},
     "output_type": "execute_result"
    }
   ],
   "source": [
    "import requests\n",
    "import pandas as pd\n",
    "import numpy as np\n",
    "url = 'https://fantasy.premierleague.com/api/bootstrap-static/'\n",
    "r = requests.get(url)\n",
    "json = r.json()\n",
    "json.keys()"
   ]
  },
  {
   "cell_type": "code",
   "execution_count": 2,
   "metadata": {},
   "outputs": [],
   "source": [
    "elements_df = pd.DataFrame(json['elements'])\n",
    "teams_df = pd.DataFrame(json['teams'])"
   ]
  },
  {
   "cell_type": "code",
   "execution_count": 4,
   "metadata": {
    "scrolled": true
   },
   "outputs": [],
   "source": [
    "posts = elements_df.groupby('element_type')"
   ]
  },
  {
   "cell_type": "code",
   "execution_count": 5,
   "metadata": {},
   "outputs": [],
   "source": [
    "GK = posts.get_group(1)\n",
    "DF = posts.get_group(2)\n",
    "MD = posts.get_group(3)\n",
    "ST = posts.get_group(4)"
   ]
  },
  {
   "cell_type": "code",
   "execution_count": 6,
   "metadata": {},
   "outputs": [],
   "source": [
    "def add_cl(POST,DF2,CL):\n",
    "    POST[CL] = 0\n",
    "    for row in POST.index:\n",
    "        team_id = POST['team'][row]\n",
    "        team_row = DF2.loc[DF2['id'] == team_id]\n",
    "        x = team_row[CL]\n",
    "        POST[CL][row] = x\n",
    "    return POST"
   ]
  },
  {
   "cell_type": "code",
   "execution_count": 8,
   "metadata": {},
   "outputs": [],
   "source": [
    "#add_cl(GK,teams_df,'strength_defence_home')\n",
    "#add_cl(GK,teams_df,'strength_defence_away')"
   ]
  },
  {
   "cell_type": "code",
   "execution_count": 11,
   "metadata": {},
   "outputs": [],
   "source": [
    "#add_cl(DF,teams_df,'strength_attack_home')\n",
    "#add_cl(DF,teams_df,'strength_attack_away')\n",
    "#add_cl(DF,teams_df,'strength_defence_home')\n",
    "#add_cl(DF,teams_df,'strength_defence_away')"
   ]
  },
  {
   "cell_type": "code",
   "execution_count": 13,
   "metadata": {},
   "outputs": [],
   "source": [
    "#add_cl(MD,teams_df,'strength_attack_home')\n",
    "#add_cl(MD,teams_df,'strength_attack_away')\n",
    "#add_cl(MD,teams_df,'strength_defence_home')\n",
    "#add_cl(MD,teams_df,'strength_defence_away')"
   ]
  },
  {
   "cell_type": "code",
   "execution_count": 15,
   "metadata": {},
   "outputs": [],
   "source": [
    "#add_cl(ST,teams_df,'strength_attack_home')\n",
    "#add_cl(ST,teams_df,'strength_attack_away')"
   ]
  },
  {
   "cell_type": "code",
   "execution_count": null,
   "metadata": {},
   "outputs": [],
   "source": []
  }
 ],
 "metadata": {
  "kernelspec": {
   "display_name": "Python 3",
   "language": "python",
   "name": "python3"
  },
  "language_info": {
   "codemirror_mode": {
    "name": "ipython",
    "version": 3
   },
   "file_extension": ".py",
   "mimetype": "text/x-python",
   "name": "python",
   "nbconvert_exporter": "python",
   "pygments_lexer": "ipython3",
   "version": "3.8.3"
  }
 },
 "nbformat": 4,
 "nbformat_minor": 4
}
