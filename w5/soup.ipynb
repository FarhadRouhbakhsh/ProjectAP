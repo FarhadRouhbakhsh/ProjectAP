{
 "cells": [
  {
   "cell_type": "code",
   "execution_count": null,
   "metadata": {},
   "outputs": [],
   "source": [
    "import requests\n",
    "from bs4 import BeautifulSoup\n",
    "import pandas as pd\n",
    "import re"
   ]
  },
  {
   "cell_type": "code",
   "execution_count": null,
   "metadata": {},
   "outputs": [],
   "source": [
    "def read_fbref(url,columns):\n",
    "    res=requests.get(url)\n",
    "    comm=re.compile(\"<!--|-->\")\n",
    "    soup = BeautifulSoup(comm.sub(\"\",res.text),'lxml')\n",
    "    all_tables=soup.findAll(\"tbody\")\n",
    "    team_table=all_tables[0]\n",
    "    player_table=all_tables[1]\n",
    "    pre_df_player = dict()\n",
    "    rows_player = player_table.find_all('tr')\n",
    "    for row in rows_player:\n",
    "        if(row.find('th',{\"scope\":\"row\"}) != None):\n",
    "            for cl in columns:\n",
    "                try:\n",
    "                    cell = row.find(\"td\",{\"data-stat\": cl})\n",
    "                    a = cell.text.strip().encode()\n",
    "                    text=a.decode(\"utf-8\")\n",
    "                    if text.isdigit():\n",
    "                        text=int(text)\n",
    "                    elif '.' in text:\n",
    "                        text=float(text)\n",
    "                    if cl in pre_df_player:\n",
    "                        pre_df_player[cl].append(text)\n",
    "                    else:\n",
    "                        pre_df_player[cl] = [text]\n",
    "                except:\n",
    "                    continue\n",
    "    df_player = pd.DataFrame.from_dict(pre_df_player)\n",
    "    return df_player[columns]"
   ]
  },
  {
   "cell_type": "code",
   "execution_count": null,
   "metadata": {},
   "outputs": [],
   "source": [
    "url_main='https://fbref.com/en/comps/9/Premier-League-Stats'\n",
    "url_std='https://fbref.com/en/comps/9/stats/Premier-League-Stats#all_stats_standard'#standard\n",
    "url_gk='https://fbref.com/en/comps/9/keepers/Premier-League-Stats#all_stats_keeper'#gk\n",
    "url_time='https://fbref.com/en/comps/9/playingtime/Premier-League-Stats#all_stats_playing_time'#playing time\n",
    "url_adv_gk='https://fbref.com/en/comps/9/keepersadv/Premier-League-Stats#all_stats_keeper_adv'#advanced_gk\n",
    "url_shot='https://fbref.com/en/comps/9/shooting/Premier-League-Stats#all_stats_shooting'#shooting\n",
    "url_pass='https://fbref.com/en/comps/9/passing/Premier-League-Stats#all_stats_passing'#passing\n",
    "url_pass_tp='https://fbref.com/en/comps/9/passing_types/Premier-League-Stats#all_stats_passing_types'#pass types\n",
    "url_gca='https://fbref.com/en/comps/9/gca/Premier-League-Stats#all_stats_gca'#goal & shot creation\n",
    "url_def='https://fbref.com/en/comps/9/defense/Premier-League-Stats#all_stats_defense'#defensive actions\n",
    "url_pos='https://fbref.com/en/comps/9/possession/Premier-League-Stats#all_stats_possession'#possession\n",
    "url_msc='https://fbref.com/en/comps/9/misc/Premier-League-Stats#all_stats_misc'#miscellaneous\n",
    "url_list=[url_std,url_gk,url_time,url_adv_gk,url_shot,url_pass,url_pass_tp,url_gca,url_def,url_pos,url_msc]"
   ]
  },
  {
   "cell_type": "code",
   "execution_count": null,
   "metadata": {},
   "outputs": [],
   "source": [
    "#columns for loading dataframes from fbref\n",
    "std_cl=[\"player\",\"position\",\"squad\",\"games\",\"games_starts\",\"minutes\",\"goals\",\"assists\",\"pens_made\",\"pens_att\",\"goals_per90\",\"assists_per90\",\"goals_assists_per90\",\"goals_pens_per90\",\"goals_assists_pens_per90\",\"xg\",\"npxg\",\"xa\",\"xg_per90\",\"xa_per90\",\"xg_xa_per90\",\"npxg_per90\",\"npxg_xa_per90\"]\n",
    "gk_cl=[\"player\",\"position\",\"squad\",\"games_gk\",\"games_starts_gk\",\"minutes_gk\",\"goals_against_gk\",\"goals_against_per90_gk\",\"shots_on_target_against\",\"saves\",\"save_pct\",\"clean_sheets\",\"clean_sheets_pct\",\"pens_att_gk\",\"pens_allowed\"]\n",
    "gk_adv_cl=[\"player\",\"position\",\"squad\",\"minutes_90s_gk\",\"psxg_gk\",\"psnpxg_per_shot_on_target_against\",\"psxg_net_gk\",\"psxg_net_per90_gk\"]\n",
    "shot_cl=[\"player\",\"position\",\"squad\",\"minutes_90s\",\"shots_on_target\",\"shots_on_target_pct\",\"shots_on_target_per90\",\"goals_per_shot_on_target\"]\n",
    "pass_cl=[\"player\",\"position\",\"squad\",\"minutes_90s\",\"assisted_shots\",\"passes_into_penalty_area\",\"crosses_into_penalty_area\"]\n",
    "pass_type_cl=[\"player\",\"position\",\"squad\",\"minutes_90s\",\"passes_free_kicks\",\"through_balls\",\"crosses\",\"corner_kicks\"]\n",
    "pos_cl=[\"player\",\"position\",\"squad\",\"minutes_90s\",\"touches_att_3rd\",\"touches_att_pen_area\"]\n",
    "gca_cl=[\"player\",\"position\",\"squad\",\"minutes_90s\",\"sca\",\"sca_per90\",\"sca_passes_live\",\"sca_passes_dead\",\"sca_fouled\",\"gca\",\"gca_per90\",\"gca_passes_live\",\"gca_passes_dead\",\"gca_fouled\"]\n",
    "msc_cl=[\"player\",\"position\",\"squad\",\"minutes_90s\",\"pens_won\",\"pens_conceded\",\"aerials_won_pct\"]\n",
    "time_cl=[\"player\",\"position\",\"squad\",\"games\",\"minutes\",\"minutes_per_game\",\"minutes_pct\",\"minutes_90s\",\"games_starts\",\"games_complete\",\"games_subs\",\"minutes_per_sub\",\"unused_subs\",\"points_per_match\",\"on_goals_for\",\"on_goals_against\",\"on_xg_for\",\"on_xg_against\",\"xg_plus_minus\",\"xg_plus_minus_per90\",\"xg_plus_minus_wowy\"]\n",
    "cl_list=[std_cl,gk_cl,gk_adv_cl,shot_cl,pass_cl,pass_type_cl,pos_cl,gca_cl,msc_cl,time_cl]"
   ]
  },
  {
   "cell_type": "code",
   "execution_count": null,
   "metadata": {
    "scrolled": true
   },
   "outputs": [],
   "source": [
    "pl_adv_gk=read_fbref(url_adv_gk,gk_adv_cl)\n",
    "print('pl_adv_gk loaded!')\n",
    "pl_std=read_fbref(url_std,std_cl)\n",
    "print('pl_std loaded!')\n",
    "pl_shot=read_fbref(url_shot,shot_cl)\n",
    "print('pl_shot loaded!')\n",
    "pl_pos=read_fbref(url_pos,pos_cl)\n",
    "print('pl_pos loaded!')\n",
    "pl_time=read_fbref(url_time,time_cl)\n",
    "print('pl_time loaded!')\n",
    "pl_pass=read_fbref(url_pass,pass_cl)\n",
    "print('pl_pass loaded!')\n",
    "pl_pass_type=read_fbref(url_pass_tp,pass_type_cl)\n",
    "print('pl_pass_type loaded!')\n",
    "pl_msc=read_fbref(url_msc,msc_cl)\n",
    "print('pl_msc loaded!')\n",
    "pl_gk=read_fbref(url_gk,gk_cl)\n",
    "print('pl_gk loaded!')\n",
    "pl_goal=read_fbref(url_gca,gca_cl)\n",
    "print('pl_goal loaded!')\n",
    "df_fbref_list=[pl_adv_gk,pl_std,pl_shot,pl_pos,pl_time,pl_pass,pl_pass_type,pl_msc,pl_gk,pl_goal]"
   ]
  },
  {
   "cell_type": "code",
   "execution_count": null,
   "metadata": {},
   "outputs": [],
   "source": [
    "#rename minutes columns for gk dataframes\n",
    "pl_adv_gk=pl_adv_gk.rename({'minutes_90s_gk':'minutes_90s'},axis=1)\n",
    "pl_gk=pl_gk.rename({'minutes_gk':'minutes'},axis=1)"
   ]
  },
  {
   "cell_type": "code",
   "execution_count": null,
   "metadata": {},
   "outputs": [],
   "source": [
    "#desired columns from fbref dataframes\n",
    "std_cl=[\"games\",\"games_starts\",\"pens_made\",\"pens_att\",\"goals_per90\",\"assists_per90\",\"goals_assists_per90\",\"goals_pens_per90\",\"goals_assists_pens_per90\",\"xg\",\"npxg\",\"xa\",\"xg_per90\",\"xa_per90\",\"xg_xa_per90\",\"npxg_per90\",\"npxg_xa_per90\"]\n",
    "shot_cl=[\"minutes_90s\",\"shots_on_target\",\"shots_on_target_pct\",\"shots_on_target_per90\",\"goals_per_shot_on_target\"]\n",
    "pass_cl=[\"assisted_shots\",\"passes_into_penalty_area\",\"crosses_into_penalty_area\"]\n",
    "pass_type_cl=[\"passes_free_kicks\",\"through_balls\",\"crosses\",\"corner_kicks\"]\n",
    "pos_cl=[\"touches_att_3rd\",\"touches_att_pen_area\"]\n",
    "goal_cl=[\"sca\",\"sca_per90\",\"sca_passes_live\",\"sca_passes_dead\",\"sca_fouled\",\"gca\",\"gca_per90\",\"gca_passes_live\",\"gca_passes_dead\",\"gca_fouled\"]\n",
    "msc_cl=[\"pens_won\",\"pens_conceded\",\"aerials_won_pct\"]\n",
    "time_cl=[\"minutes_per_game\",\"minutes_pct\",\"games_starts\",\"games_complete\",\"games_subs\",\"minutes_per_sub\",\"unused_subs\",\"points_per_match\",\"on_goals_for\",\"on_goals_against\",\"on_xg_for\",\"on_xg_against\",\"xg_plus_minus\",\"xg_plus_minus_per90\",\"xg_plus_minus_wowy\"]\n",
    "gk_cl=[\"games_gk\",\"games_starts_gk\",\"goals_against_per90_gk\",\"shots_on_target_against\",\"save_pct\",\"clean_sheets_pct\",\"pens_att_gk\",\"pens_allowed\"]\n",
    "adv_gk_cl=[\"minutes_90s\",\"psxg_gk\",\"psnpxg_per_shot_on_target_against\",\"psxg_net_gk\",\"psxg_net_per90_gk\"]"
   ]
  },
  {
   "cell_type": "code",
   "execution_count": null,
   "metadata": {},
   "outputs": [],
   "source": []
  }
 ],
 "metadata": {
  "kernelspec": {
   "display_name": "Python 3",
   "language": "python",
   "name": "python3"
  },
  "language_info": {
   "codemirror_mode": {
    "name": "ipython",
    "version": 3
   },
   "file_extension": ".py",
   "mimetype": "text/x-python",
   "name": "python",
   "nbconvert_exporter": "python",
   "pygments_lexer": "ipython3",
   "version": "3.8.3"
  }
 },
 "nbformat": 4,
 "nbformat_minor": 4
}
